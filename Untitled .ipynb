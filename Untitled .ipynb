{
 "cells": [
  {
   "cell_type": "code",
   "execution_count": null,
   "metadata": {},
   "outputs": [],
   "source": [
    "# creating a two variable a ,b and adding them together\n",
    "a = 15\n",
    "b = 67\n",
    "print (a+b)"
   ]
  },
  {
   "cell_type": "code",
   "execution_count": null,
   "metadata": {},
   "outputs": [],
   "source": [
    "# Indexing Example\n",
    "a = [12, 45, 34, 87, 91]\n",
    "b = (43, 62, 63, 87, 103)\n",
    "c = {'Geo' :98, 'Leo':78, \"Peo\":85}"
   ]
  },
  {
   "cell_type": "code",
   "execution_count": null,
   "metadata": {},
   "outputs": [],
   "source": [
    "b[-1]"
   ]
  },
  {
   "cell_type": "code",
   "execution_count": 6,
   "metadata": {},
   "outputs": [
    {
     "name": "stdout",
     "output_type": "stream",
     "text": [
      "what is your name?emmy\n"
     ]
    }
   ],
   "source": [
    "a = input ('what is your name?')"
   ]
  },
  {
   "cell_type": "code",
   "execution_count": 7,
   "metadata": {},
   "outputs": [
    {
     "data": {
      "text/plain": [
       "'emmy'"
      ]
     },
     "execution_count": 7,
     "metadata": {},
     "output_type": "execute_result"
    }
   ],
   "source": [
    "a"
   ]
  },
  {
   "cell_type": "code",
   "execution_count": 8,
   "metadata": {},
   "outputs": [
    {
     "name": "stdout",
     "output_type": "stream",
     "text": [
      "What is your name? adaeze\n",
      "What is your age? 12\n"
     ]
    }
   ],
   "source": [
    "name = input(\"What is your name? \")\n",
    "age = input(\"What is your age? \")\n",
    "sentence = \"My Name is \" + name + \" and I am \" + age + \" years old\""
   ]
  },
  {
   "cell_type": "code",
   "execution_count": 9,
   "metadata": {},
   "outputs": [
    {
     "data": {
      "text/plain": [
       "'My Name is adaeze and I am 12 years old'"
      ]
     },
     "execution_count": 9,
     "metadata": {},
     "output_type": "execute_result"
    }
   ],
   "source": [
    "sentence"
   ]
  },
  {
   "cell_type": "code",
   "execution_count": 10,
   "metadata": {},
   "outputs": [
    {
     "data": {
      "text/plain": [
       "'12'"
      ]
     },
     "execution_count": 10,
     "metadata": {},
     "output_type": "execute_result"
    }
   ],
   "source": [
    "age"
   ]
  },
  {
   "cell_type": "code",
   "execution_count": 12,
   "metadata": {},
   "outputs": [],
   "source": [
    "age = int(age)"
   ]
  },
  {
   "cell_type": "code",
   "execution_count": 13,
   "metadata": {},
   "outputs": [
    {
     "data": {
      "text/plain": [
       "12"
      ]
     },
     "execution_count": 13,
     "metadata": {},
     "output_type": "execute_result"
    }
   ],
   "source": [
    "age"
   ]
  },
  {
   "cell_type": "code",
   "execution_count": 14,
   "metadata": {},
   "outputs": [
    {
     "data": {
      "text/plain": [
       "17"
      ]
     },
     "execution_count": 14,
     "metadata": {},
     "output_type": "execute_result"
    }
   ],
   "source": [
    "age + 5"
   ]
  },
  {
   "cell_type": "code",
   "execution_count": 15,
   "metadata": {},
   "outputs": [
    {
     "name": "stdout",
     "output_type": "stream",
     "text": [
      "What is your name? adaeze\n",
      "What is your age? 15\n",
      "My Name is adaeze and I am 15 years old\n"
     ]
    }
   ],
   "source": [
    "name = input(\"What is your name? \")\n",
    "age = input(\"What is your age? \")\n",
    "sentence = f\"My Name is {name} and I am {age} years old\"\n",
    "print(sentence)"
   ]
  },
  {
   "cell_type": "code",
   "execution_count": 16,
   "metadata": {},
   "outputs": [],
   "source": [
    "a =[45, 31, 83]\n",
    "b =(45, 31, 83)"
   ]
  },
  {
   "cell_type": "code",
   "execution_count": null,
   "metadata": {},
   "outputs": [],
   "source": [
    "a"
   ]
  },
  {
   "cell_type": "code",
   "execution_count": 1,
   "metadata": {},
   "outputs": [
    {
     "name": "stdout",
     "output_type": "stream",
     "text": [
      "What is your name?kamsi\n"
     ]
    }
   ],
   "source": [
    "a = input (\"What is your name?\")"
   ]
  },
  {
   "cell_type": "code",
   "execution_count": 5,
   "metadata": {},
   "outputs": [
    {
     "name": "stdout",
     "output_type": "stream",
     "text": [
      "How old are you?12\n"
     ]
    }
   ],
   "source": [
    "b = input (\"How old are you?\")"
   ]
  },
  {
   "cell_type": "code",
   "execution_count": 6,
   "metadata": {},
   "outputs": [
    {
     "name": "stdout",
     "output_type": "stream",
     "text": [
      "How old will you be in ten years?22\n"
     ]
    }
   ],
   "source": [
    "c = input (\"How old will you be in ten years?\")"
   ]
  },
  {
   "cell_type": "code",
   "execution_count": 1,
   "metadata": {},
   "outputs": [
    {
     "name": "stdout",
     "output_type": "stream",
     "text": [
      "What is your name?kamsi\n",
      "How old are you?12\n",
      "How old will you be in ten years?22\n",
      "My name is kamsi and I am 12 and wil be 22 in ten years\n"
     ]
    }
   ],
   "source": [
    "name = input (\"What is your name?\")\n",
    "age = input (\"How old are you?\")\n",
    "addedage = input (\"How old will you be in ten years?\")\n",
    "sentence = f\"My name is {name} and I am {age} and wil be {addedage} in ten years\"\n",
    "print(sentence)"
   ]
  },
  {
   "cell_type": "code",
   "execution_count": 4,
   "metadata": {},
   "outputs": [
    {
     "name": "stdout",
     "output_type": "stream",
     "text": [
      "age:12\n"
     ]
    }
   ],
   "source": [
    "age =input(\"age:\")"
   ]
  },
  {
   "cell_type": "code",
   "execution_count": 6,
   "metadata": {},
   "outputs": [
    {
     "name": "stdout",
     "output_type": "stream",
     "text": [
      "name:ada\n",
      "age:12\n",
      "My name is ada I am 12 years old and will be 17 years old in five years\n"
     ]
    }
   ],
   "source": [
    "name =input(\"name:\")\n",
    "age = int(input(\"age:\"))\n",
    "new_age = int(age) + 5           \n",
    "sentence = f\"My name is {name} I am {age} years old and will be {new_age} years old in five years\"\n",
    "print(sentence)"
   ]
  },
  {
   "cell_type": "markdown",
   "metadata": {},
   "source": [
    "# correction \n"
   ]
  },
  {
   "cell_type": "code",
   "execution_count": 8,
   "metadata": {},
   "outputs": [
    {
     "name": "stdout",
     "output_type": "stream",
     "text": [
      "Name: eze\n",
      "Age: 12\n",
      "Hello eze! You are 12 years old. You will be 22 years old in ten years\n"
     ]
    }
   ],
   "source": [
    "name = input(\"Name: \")\n",
    "age = int(input(\"Age: \"))\n",
    "new_age = int(age) + 10\n",
    "sentence = f\"Hello {name}! You are {age} years old. You will be {new_age} years old in ten years\"\n",
    "print(sentence)"
   ]
  },
  {
   "cell_type": "code",
   "execution_count": 14,
   "metadata": {},
   "outputs": [
    {
     "name": "stdout",
     "output_type": "stream",
     "text": [
      "enter a value100\n"
     ]
    }
   ],
   "source": [
    "a = int(input(\"enter a value\"))\n",
    "if a > 100:\n",
    "    print(f\"{a} is above 100\")"
   ]
  },
  {
   "cell_type": "code",
   "execution_count": 19,
   "metadata": {},
   "outputs": [
    {
     "name": "stdout",
     "output_type": "stream",
     "text": [
      "enter a value100\n",
      "100 is below 100\n"
     ]
    }
   ],
   "source": [
    "a = int(input(\"enter a value\"))\n",
    "if a > 100:\n",
    "    print(f\"{a} is above 100\" )\n",
    "else:\n",
    "    print(f\"{a} is below 100\")\n",
    "    \n",
    "    \n"
   ]
  },
  {
   "cell_type": "code",
   "execution_count": 27,
   "metadata": {},
   "outputs": [
    {
     "name": "stdout",
     "output_type": "stream",
     "text": [
      "Name:ugo\n",
      "Age:18\n",
      "18 not qualified\n"
     ]
    }
   ],
   "source": [
    "name = input(\"Name:\")\n",
    "age = input(\"Age:\")\n",
    "if a  > 18:\n",
    "    print(f\"{a} eligible\")\n",
    "else:\n",
    "    print(f\"{a} not qualified\")\n"
   ]
  },
  {
   "cell_type": "code",
   "execution_count": 35,
   "metadata": {},
   "outputs": [
    {
     "name": "stdout",
     "output_type": "stream",
     "text": [
      "Name:ugo\n",
      "Age:18\n",
      "18 eligible\n"
     ]
    }
   ],
   "source": [
    "name = input(\"Name:\")\n",
    "age = input(\"Age:\")\n",
    "age = int(age)\n",
    "if age  < 20:\n",
    "    print(f\"{age} eligible\")\n",
    "else:\n",
    "    print(f\"{age} not qualified\")\n"
   ]
  },
  {
   "cell_type": "code",
   "execution_count": 3,
   "metadata": {},
   "outputs": [
    {
     "name": "stdout",
     "output_type": "stream",
     "text": [
      "Name: oge\n",
      "Age: 18\n",
      "Sorry you are too young to drive\n"
     ]
    }
   ],
   "source": [
    "username = input(\"Name: \")\n",
    "userage = int(input(\"Age: \"))\n",
    "if userage > 20:\n",
    "     print(\"Congratulation! You are old enough to drive\")\n",
    "else:\n",
    "    print(\"Sorry you are too young to drive\") "
   ]
  },
  {
   "cell_type": "code",
   "execution_count": 13,
   "metadata": {},
   "outputs": [
    {
     "name": "stdout",
     "output_type": "stream",
     "text": [
      "Name: ada\n",
      "Your score: 40\n",
      "Your grade is E: Chai\n"
     ]
    }
   ],
   "source": [
    "student_name = input(\"Name: \")\n",
    "student_score = int(input(\"Your score: \"))\n",
    "\n",
    "if student_score > 100:\n",
    "    print(\"I'm not joling here!\")\n",
    "elif student_score >= 70:\n",
    "    print(\"Your grade is A: Excellent!\")\n",
    "elif student_score >= 60:\n",
    "    print(\"Your grade is B: You can do better\")\n",
    "elif student_score >= 50:\n",
    "    print(\"Your grade is C: Your mate is getting A Try more\")\n",
    "elif student_score >= 45:\n",
    "    print(\"Your grade is D: I'm dissapointed\")\n",
    "elif student_score >= 40:\n",
    "    print(\"Your grade is E: Chai\")\n",
    "elif student_score >= 30:\n",
    "    print(\"Olodo, You had an FFFFFF\")"
   ]
  },
  {
   "cell_type": "code",
   "execution_count": 3,
   "metadata": {},
   "outputs": [
    {
     "name": "stdout",
     "output_type": "stream",
     "text": [
      "welcome to Genesis Pizza Deliveries\n",
      "what size of pizza do you want?S, M or LS\n",
      "Do you want pepperoni? Y or NY\n",
      "Do you want extra cheese? Y or NN\n",
      "Your final bill is: N1700\n"
     ]
    }
   ],
   "source": [
    "print('welcome to Genesis Pizza Deliveries')\n",
    "size = input('what size of pizza do you want?S, M or L')\n",
    "add_pepperoni = input('Do you want pepperoni? Y or N')\n",
    "extra_cheese = input('Do you want extra cheese? Y or N')\n",
    "bill = 0\n",
    "total = 0\n",
    "if size =='S':\n",
    "    bill = bill + 1500\n",
    "elif size == 'M':\n",
    "    bill +=2000\n",
    "elif size =='L':\n",
    "     bill += 2500\n",
    "if add_pepperoni == 'Y':\n",
    "    if size  == 'S':\n",
    "        bill += 200\n",
    "else:\n",
    "            bill += 300\n",
    "if extra_cheese =='L':\n",
    "       bill += 100\n",
    "print(f'Your final bill is: N{bill}')\n",
    "        \n",
    "        "
   ]
  },
  {
   "cell_type": "code",
   "execution_count": 4,
   "metadata": {},
   "outputs": [
    {
     "name": "stdout",
     "output_type": "stream",
     "text": [
      "hello, world.\n",
      "hello, world.\n",
      "hello, world.\n",
      "hello, world.\n",
      "hello, world.\n"
     ]
    }
   ],
   "source": [
    "spam = 0\n",
    "while spam < 5:\n",
    "    print('hello, world.')\n",
    "    spam = spam + 1"
   ]
  },
  {
   "cell_type": "code",
   "execution_count": 2,
   "metadata": {},
   "outputs": [
    {
     "name": "stdout",
     "output_type": "stream",
     "text": [
      "0\n",
      "hello, world.\n",
      "2\n",
      "hello, world.\n",
      "4\n",
      "hello, world.\n"
     ]
    }
   ],
   "source": [
    "spam =0\n",
    "while spam < 5:\n",
    "    print(spam)\n",
    "    print('hello, world.')\n",
    "    spam = spam + 2"
   ]
  },
  {
   "cell_type": "code",
   "execution_count": 7,
   "metadata": {},
   "outputs": [
    {
     "data": {
      "text/plain": [
       "[0, 1, 2, 3, 4, 5, 6, 7, 8, 9]"
      ]
     },
     "execution_count": 7,
     "metadata": {},
     "output_type": "execute_result"
    }
   ],
   "source": [
    "list(range(10))"
   ]
  },
  {
   "cell_type": "code",
   "execution_count": 8,
   "metadata": {},
   "outputs": [
    {
     "data": {
      "text/plain": [
       "[3, 4, 5, 6, 7, 8, 9]"
      ]
     },
     "execution_count": 8,
     "metadata": {},
     "output_type": "execute_result"
    }
   ],
   "source": [
    "list(range(3,10))"
   ]
  },
  {
   "cell_type": "code",
   "execution_count": 6,
   "metadata": {},
   "outputs": [
    {
     "data": {
      "text/plain": [
       "[0, 2, 4, 6, 8]"
      ]
     },
     "execution_count": 6,
     "metadata": {},
     "output_type": "execute_result"
    }
   ],
   "source": [
    "list(range(0,10,2))"
   ]
  },
  {
   "cell_type": "code",
   "execution_count": 15,
   "metadata": {},
   "outputs": [
    {
     "data": {
      "text/plain": [
       "2550"
      ]
     },
     "execution_count": 15,
     "metadata": {},
     "output_type": "execute_result"
    }
   ],
   "source": [
    "sum(range(0,101,2))"
   ]
  },
  {
   "cell_type": "code",
   "execution_count": 18,
   "metadata": {},
   "outputs": [
    {
     "data": {
      "text/plain": [
       "51"
      ]
     },
     "execution_count": 18,
     "metadata": {},
     "output_type": "execute_result"
    }
   ],
   "source": [
    "len(range(0,101,2))"
   ]
  },
  {
   "cell_type": "code",
   "execution_count": 19,
   "metadata": {},
   "outputs": [
    {
     "data": {
      "text/plain": [
       "50.0"
      ]
     },
     "execution_count": 19,
     "metadata": {},
     "output_type": "execute_result"
    }
   ],
   "source": [
    "sum(range(0,101,2)) / len(range(0,101,2))"
   ]
  },
  {
   "cell_type": "code",
   "execution_count": 1,
   "metadata": {},
   "outputs": [
    {
     "name": "stdout",
     "output_type": "stream",
     "text": [
      "0\n",
      "Hello! How are you?\n",
      "1\n",
      "Hello! How are you?\n",
      "2\n",
      "Hello! How are you?\n",
      "3\n",
      "Hello! How are you?\n",
      "4\n",
      "Hello! How are you?\n"
     ]
    }
   ],
   "source": [
    "for amy in range(5):\n",
    "    print(amy)\n",
    "    print(\"Hello! How are you?\")"
   ]
  },
  {
   "cell_type": "code",
   "execution_count": 3,
   "metadata": {},
   "outputs": [
    {
     "data": {
      "text/plain": [
       "[5, 4, 3, 2, 1, 0]"
      ]
     },
     "execution_count": 3,
     "metadata": {},
     "output_type": "execute_result"
    }
   ],
   "source": [
    "list(range(5, -1, -1))"
   ]
  },
  {
   "cell_type": "code",
   "execution_count": 5,
   "metadata": {},
   "outputs": [
    {
     "name": "stdout",
     "output_type": "stream",
     "text": [
      "what is the password?\n",
      "Enter your password?cat\n",
      "what is the password?\n",
      "Enter your password?dog\n",
      "what is the password?\n",
      "Enter your password?password\n"
     ]
    }
   ],
   "source": [
    "password = \"\"\n",
    "while password !='password':\n",
    "    print('what is the password?')\n",
    "    password = input(\"Enter your password?\")"
   ]
  },
  {
   "cell_type": "code",
   "execution_count": 13,
   "metadata": {},
   "outputs": [],
   "source": [
    "import random"
   ]
  },
  {
   "cell_type": "code",
   "execution_count": 14,
   "metadata": {},
   "outputs": [
    {
     "data": {
      "text/plain": [
       "4"
      ]
     },
     "execution_count": 14,
     "metadata": {},
     "output_type": "execute_result"
    }
   ],
   "source": [
    "random.randint(1, 25)"
   ]
  },
  {
   "cell_type": "code",
   "execution_count": 19,
   "metadata": {},
   "outputs": [
    {
     "name": "stdout",
     "output_type": "stream",
     "text": [
      "Welcome, Guess a number between 1 to 25\n",
      "12\n",
      "Welcome, Guess a number between 1 to 25\n",
      "14\n",
      "Welcome, Guess a number between 1 to 25\n",
      "11\n",
      "You didn't guess the number. The number was19\n"
     ]
    }
   ],
   "source": [
    "# Guess that number!!!!\n",
    "number = random.randint(1,25) # computer thinks of a number between 1 to 25\n",
    "number_of_guess = 0\n",
    "while number_of_guess < 3:\n",
    "    print(\"Welcome, Guess a number between 1 to 25\")\n",
    "    guess = input()\n",
    "    guess = int(guess)\n",
    "    number_of_guess = number_of_guess +1\n",
    "    if guess == number:\n",
    "        break\n",
    "if guess == number:\n",
    "    print(f'You guess the number in {number_of_guess} ties!')\n",
    "else:\n",
    "          print(f\"You didn't guess the number. The number was{number}\" )\n",
    "    \n",
    "        \n",
    "        "
   ]
  },
  {
   "cell_type": "code",
   "execution_count": 1,
   "metadata": {},
   "outputs": [
    {
     "name": "stdout",
     "output_type": "stream",
     "text": [
      "please type your name.\n",
      "adaeze\n",
      "Thank you!\n"
     ]
    }
   ],
   "source": [
    "while True:\n",
    "    print('please type your name.')\n",
    "    name = input()\n",
    "    if name == 'adaeze':\n",
    "        break\n",
    "\n",
    "print('Thank you!')\n",
    "    "
   ]
  },
  {
   "cell_type": "code",
   "execution_count": 4,
   "metadata": {},
   "outputs": [
    {
     "name": "stdout",
     "output_type": "stream",
     "text": [
      "Who are you?\n",
      "Joe\n",
      "Hello, joe. what is the password?\n",
      "swordfish\n",
      "Access granted.\n"
     ]
    }
   ],
   "source": [
    "while True:\n",
    "    print('Who are you?')\n",
    "    name = input()\n",
    "    if name != 'Joe':\n",
    "        continue\n",
    "    print('Hello, joe. what is the password?')\n",
    "    password = input()\n",
    "    if password == 'swordfish':\n",
    "        break\n",
    "print('Access granted.')"
   ]
  },
  {
   "cell_type": "markdown",
   "metadata": {},
   "source": [
    "# for loop vs while loop\n"
   ]
  },
  {
   "cell_type": "code",
   "execution_count": 10,
   "metadata": {},
   "outputs": [
    {
     "name": "stdout",
     "output_type": "stream",
     "text": [
      "0\n",
      "Before: 0\n",
      "After: 0\n",
      "\n",
      "1\n",
      "Before: 0\n",
      "After: 1\n",
      "\n",
      "2\n",
      "Before: 1\n",
      "After: 3\n",
      "\n",
      "3\n",
      "Before: 3\n",
      "After: 6\n",
      "\n",
      "4\n",
      "Before: 6\n",
      "After: 10\n",
      "\n",
      "5\n",
      "Before: 10\n",
      "After: 15\n",
      "\n",
      "6\n",
      "Before: 15\n",
      "After: 21\n",
      "\n",
      "21\n"
     ]
    }
   ],
   "source": [
    "n = 6\n",
    "current_sum = 0\n",
    "for i in range(n + 1):\n",
    "    print(i)\n",
    "    print(f\"Before: {current_sum}\")\n",
    "    current_sum += i\n",
    "    print(f\"After: {current_sum}\")\n",
    "    print()\n",
    "print(current_sum)"
   ]
  },
  {
   "cell_type": "code",
   "execution_count": 16,
   "metadata": {},
   "outputs": [
    {
     "name": "stdout",
     "output_type": "stream",
     "text": [
      "21\n"
     ]
    }
   ],
   "source": [
    "n = 6\n",
    "current_sum = 0\n",
    "i = 0\n",
    "while i <= n:\n",
    "    current_sum += i\n",
    "    i += 1\n",
    "print(current_sum)"
   ]
  },
  {
   "cell_type": "markdown",
   "metadata": {},
   "source": [
    "# ASSIGNMENT "
   ]
  },
  {
   "cell_type": "code",
   "execution_count": 8,
   "metadata": {},
   "outputs": [
    {
     "name": "stdout",
     "output_type": "stream",
     "text": [
      "welcome to kaka kitchen\n",
      "What swallow do you want?garri\n",
      "How many wraps?3\n",
      "Which soup do you want?egusi\n",
      "Which protein do you want?no\n",
      "Your bill is 0\n",
      "Your bill is 210\n",
      "Your bill is 410\n",
      "Your total bill is:N410\n"
     ]
    }
   ],
   "source": [
    "print('welcome to kaka kitchen')\n",
    "swallow = input('What swallow do you want?')\n",
    "wrap = input('How many wraps?')\n",
    "no_of_wrap = int(wrap)\n",
    "soup = input('Which soup do you want?')\n",
    "add_protein = input('Which protein do you want?')\n",
    "bill = 0\n",
    "total_bill = 0\n",
    "print(f'Your bill is {bill}')\n",
    "if swallow == 'fufu':\n",
    "    bill = bill + 50\n",
    "elif swallow == 'garri':\n",
    "    bill += 70\n",
    "elif swallow == 'poundedyam':\n",
    "    bill += 100\n",
    "bill = bill* int(wrap)\n",
    "print(f'Your bill is {bill}')\n",
    "    \n",
    "if soup == 'egusi':\n",
    "    bill += 200\n",
    "elif soup == 'okror':\n",
    "    bill += 200\n",
    "else:\n",
    "    bill += 300\n",
    "print(f'Your bill is {bill}')    \n",
    "\n",
    "if add_protein == 'meat':\n",
    "    bill += 100\n",
    "elif add_protein == 'fish':\n",
    "    bill += 150\n",
    "print(f'Your total bill is:N{bill}')"
   ]
  },
  {
   "cell_type": "code",
   "execution_count": 7,
   "metadata": {},
   "outputs": [
    {
     "name": "stdout",
     "output_type": "stream",
     "text": [
      "Welocme to my kitchen, what will you have today?\n",
      "fufu (F), Garri (G), Pounded Yam (P)G\n",
      "How many wraps?6\n",
      "Which soup? Egusi(E), Okra (O), Mixed (M)E\n",
      "Do you want Meat(M), Fish(F), or None of the above (N)? F\n",
      "How many pieces of fish?2\n",
      "Your total bill is 920\n",
      "Thaks for choosing us! Do come again next time !!\n"
     ]
    }
   ],
   "source": [
    "print('Welocme to my kitchen, what will you have today?')\n",
    "swallow = input('fufu (F), Garri (G), Pounded Yam (P)')\n",
    "no_of_swallow = int(input('How many wraps?'))\n",
    "soup = input('Which soup? Egusi(E), Okra (O), Mixed (M)')\n",
    "protein = input('Do you want Meat(M), Fish(F), or None of the above (N)? ')\n",
    "\n",
    "bill = 0\n",
    "\n",
    "# Selection of swallow\n",
    "if swallow == 'F':\n",
    "    bill =bill + 50\n",
    "elif swallow == 'G':\n",
    "    bill = bill + 70\n",
    "elif swallow == 'P':\n",
    "    bill = bill + 100\n",
    "        \n",
    "# No of wraps\n",
    "bill = bill* no_of_swallow\n",
    "\n",
    "# Selection of soup\n",
    "if soup == 'E':\n",
    "    bill =bill + 200\n",
    "elif soup == 'O':\n",
    "    bill = bill + 200\n",
    "elif soup == 'M':\n",
    "    bill = bill + 300\n",
    "    \n",
    "# Selection of protein\n",
    "if protein == 'M':\n",
    "    num_of_meat = int(input('How many pieces of meat?'))\n",
    "    meat_total = num_of_meat * 100\n",
    "    bill =bill + meat_total\n",
    "elif protein == 'F':\n",
    "    num_of_fish =int(input('How many pieces of fish?'))\n",
    "    fish_total = num_of_fish * 150\n",
    "    bill = bill + fish_total\n",
    "\n",
    "print(f'Your total bill is {bill}')\n",
    "print(f'Thaks for choosing us! Do come again next time !!' )\n",
    "\n",
    "           \n",
    "\n",
    "\n"
   ]
  },
  {
   "cell_type": "markdown",
   "metadata": {},
   "source": [
    "# sequence"
   ]
  },
  {
   "cell_type": "code",
   "execution_count": 25,
   "metadata": {},
   "outputs": [],
   "source": [
    "a = [[1,2,3], 2,5, ['cat', 'dog', 'sheep']]"
   ]
  },
  {
   "cell_type": "code",
   "execution_count": 26,
   "metadata": {},
   "outputs": [
    {
     "data": {
      "text/plain": [
       "'p'"
      ]
     },
     "execution_count": 26,
     "metadata": {},
     "output_type": "execute_result"
    }
   ],
   "source": [
    "a[3][2][4]"
   ]
  },
  {
   "cell_type": "code",
   "execution_count": 17,
   "metadata": {},
   "outputs": [],
   "source": [
    "a = [1,2,3,4,5,6,7,8,9,10]"
   ]
  },
  {
   "cell_type": "code",
   "execution_count": 18,
   "metadata": {},
   "outputs": [
    {
     "data": {
      "text/plain": [
       "[1, 2, 3, 4, 5, 6, 7, 8, 9, 10]"
      ]
     },
     "execution_count": 18,
     "metadata": {},
     "output_type": "execute_result"
    }
   ],
   "source": [
    "a"
   ]
  },
  {
   "cell_type": "code",
   "execution_count": 19,
   "metadata": {},
   "outputs": [
    {
     "data": {
      "text/plain": [
       "[1, 2, 3, 4, 5]"
      ]
     },
     "execution_count": 19,
     "metadata": {},
     "output_type": "execute_result"
    }
   ],
   "source": [
    "a[0:5]"
   ]
  },
  {
   "cell_type": "code",
   "execution_count": 22,
   "metadata": {},
   "outputs": [
    {
     "data": {
      "text/plain": [
       "[7, 6, 5, 4, 3]"
      ]
     },
     "execution_count": 22,
     "metadata": {},
     "output_type": "execute_result"
    }
   ],
   "source": [
    "a[3:8]"
   ]
  },
  {
   "cell_type": "code",
   "execution_count": 23,
   "metadata": {},
   "outputs": [],
   "source": [
    "b= ('cat', 'dog', 'sheep')\n",
    "c = []\n",
    "for i in b:\n",
    "    c.append(i)"
   ]
  },
  {
   "cell_type": "code",
   "execution_count": 24,
   "metadata": {},
   "outputs": [
    {
     "data": {
      "text/plain": [
       "['cat', 'dog', 'sheep']"
      ]
     },
     "execution_count": 24,
     "metadata": {},
     "output_type": "execute_result"
    }
   ],
   "source": [
    "c"
   ]
  },
  {
   "cell_type": "markdown",
   "metadata": {},
   "source": [
    "# Asignment chrismas tree using loop"
   ]
  },
  {
   "cell_type": "code",
   "execution_count": 4,
   "metadata": {},
   "outputs": [],
   "source": [
    "list = [3, 5, 7 ,9 ,11]"
   ]
  },
  {
   "cell_type": "code",
   "execution_count": 4,
   "metadata": {},
   "outputs": [
    {
     "name": "stdout",
     "output_type": "stream",
     "text": [
      "xxx\n",
      "xxxxx\n",
      "xxxxxxx\n",
      "xxxxxxxxx\n",
      "xxxxxxxxxxx\n"
     ]
    }
   ],
   "source": [
    "numbers = [3,5,7,9,11]\n",
    "x = 0\n",
    "for x_count in numbers:\n",
    "    print('x' * x_count)"
   ]
  },
  {
   "cell_type": "markdown",
   "metadata": {},
   "source": [
    "# classwork\n",
    "create a list\n"
   ]
  },
  {
   "cell_type": "code",
   "execution_count": 16,
   "metadata": {},
   "outputs": [],
   "source": [
    "a = [23,45,14,78,39,14,56,101,23,24,56]"
   ]
  },
  {
   "cell_type": "code",
   "execution_count": 17,
   "metadata": {},
   "outputs": [
    {
     "data": {
      "text/plain": [
       "[23, 45, 14, 78, 39, 14, 56, 101, 23, 24, 56]"
      ]
     },
     "execution_count": 17,
     "metadata": {},
     "output_type": "execute_result"
    }
   ],
   "source": [
    "a[0:14]"
   ]
  },
  {
   "cell_type": "code",
   "execution_count": 18,
   "metadata": {},
   "outputs": [
    {
     "data": {
      "text/plain": [
       "[23, 45, 14]"
      ]
     },
     "execution_count": 18,
     "metadata": {},
     "output_type": "execute_result"
    }
   ],
   "source": [
    "a[0:3]"
   ]
  },
  {
   "cell_type": "code",
   "execution_count": 19,
   "metadata": {},
   "outputs": [
    {
     "data": {
      "text/plain": [
       "[23, 24, 56]"
      ]
     },
     "execution_count": 19,
     "metadata": {},
     "output_type": "execute_result"
    }
   ],
   "source": [
    "a[8:]\n"
   ]
  },
  {
   "cell_type": "code",
   "execution_count": 20,
   "metadata": {},
   "outputs": [
    {
     "data": {
      "text/plain": [
       "[39, 14, 56, 101]"
      ]
     },
     "execution_count": 20,
     "metadata": {},
     "output_type": "execute_result"
    }
   ],
   "source": [
    "a[4:8]"
   ]
  },
  {
   "cell_type": "code",
   "execution_count": null,
   "metadata": {},
   "outputs": [],
   "source": []
  },
  {
   "cell_type": "code",
   "execution_count": 23,
   "metadata": {},
   "outputs": [],
   "source": [
    "a = (1,2,3,4,5,6,7,8,9,10)"
   ]
  },
  {
   "cell_type": "code",
   "execution_count": 24,
   "metadata": {},
   "outputs": [
    {
     "data": {
      "text/plain": [
       "55"
      ]
     },
     "execution_count": 24,
     "metadata": {},
     "output_type": "execute_result"
    }
   ],
   "source": [
    "sum(a)"
   ]
  },
  {
   "cell_type": "code",
   "execution_count": 25,
   "metadata": {},
   "outputs": [
    {
     "data": {
      "text/plain": [
       "10"
      ]
     },
     "execution_count": 25,
     "metadata": {},
     "output_type": "execute_result"
    }
   ],
   "source": [
    "max(a)"
   ]
  },
  {
   "cell_type": "code",
   "execution_count": 34,
   "metadata": {},
   "outputs": [],
   "source": [
    "a = (1,2,3,4)"
   ]
  },
  {
   "cell_type": "code",
   "execution_count": 37,
   "metadata": {},
   "outputs": [
    {
     "name": "stdout",
     "output_type": "stream",
     "text": [
      "1\n",
      "2\n",
      "3\n",
      "4\n"
     ]
    }
   ],
   "source": [
    "for i in a:\n",
    "    print(i)"
   ]
  },
  {
   "cell_type": "code",
   "execution_count": 42,
   "metadata": {},
   "outputs": [
    {
     "name": "stdout",
     "output_type": "stream",
     "text": [
      "24\n"
     ]
    }
   ],
   "source": [
    "total = 1\n",
    "for i in a:\n",
    "    total = total*i\n",
    "print(total)"
   ]
  },
  {
   "cell_type": "markdown",
   "metadata": {},
   "source": [
    "# dictionary"
   ]
  },
  {
   "cell_type": "code",
   "execution_count": 43,
   "metadata": {},
   "outputs": [
    {
     "data": {
      "text/plain": [
       "False"
      ]
     },
     "execution_count": 43,
     "metadata": {},
     "output_type": "execute_result"
    }
   ],
   "source": [
    "[1,2,3] == [2,3,1]"
   ]
  },
  {
   "cell_type": "code",
   "execution_count": 51,
   "metadata": {},
   "outputs": [],
   "source": [
    "cat1 = {'size':'fat','color': 'grey','disposition':'loud'}\n",
    "cat2 = {'color':'grey','size':'fat','disposition':'loud'}"
   ]
  },
  {
   "cell_type": "code",
   "execution_count": 52,
   "metadata": {},
   "outputs": [
    {
     "data": {
      "text/plain": [
       "True"
      ]
     },
     "execution_count": 52,
     "metadata": {},
     "output_type": "execute_result"
    }
   ],
   "source": [
    "cat1 == cat2"
   ]
  },
  {
   "cell_type": "code",
   "execution_count": 53,
   "metadata": {},
   "outputs": [],
   "source": [
    "cat1['height'] = 50"
   ]
  },
  {
   "cell_type": "code",
   "execution_count": 54,
   "metadata": {},
   "outputs": [
    {
     "data": {
      "text/plain": [
       "{'size': 'fat', 'color': 'grey', 'disposition': 'loud', 'height': 50}"
      ]
     },
     "execution_count": 54,
     "metadata": {},
     "output_type": "execute_result"
    }
   ],
   "source": [
    "cat1"
   ]
  },
  {
   "cell_type": "code",
   "execution_count": 55,
   "metadata": {},
   "outputs": [],
   "source": [
    "cat1['weight'] = 60"
   ]
  },
  {
   "cell_type": "code",
   "execution_count": 56,
   "metadata": {},
   "outputs": [
    {
     "data": {
      "text/plain": [
       "{'size': 'fat',\n",
       " 'color': 'grey',\n",
       " 'disposition': 'loud',\n",
       " 'height': 50,\n",
       " 'weight': 60}"
      ]
     },
     "execution_count": 56,
     "metadata": {},
     "output_type": "execute_result"
    }
   ],
   "source": [
    "cat1"
   ]
  },
  {
   "cell_type": "code",
   "execution_count": 57,
   "metadata": {},
   "outputs": [
    {
     "data": {
      "text/plain": [
       "dict_keys(['size', 'color', 'disposition', 'height', 'weight'])"
      ]
     },
     "execution_count": 57,
     "metadata": {},
     "output_type": "execute_result"
    }
   ],
   "source": [
    "cat1.keys()"
   ]
  },
  {
   "cell_type": "code",
   "execution_count": 62,
   "metadata": {},
   "outputs": [
    {
     "name": "stdout",
     "output_type": "stream",
     "text": [
      "size\n",
      "color\n",
      "disposition\n",
      "height\n",
      "weight\n"
     ]
    }
   ],
   "source": [
    "for i in cat1.keys():\n",
    "    print(i)"
   ]
  },
  {
   "cell_type": "markdown",
   "metadata": {},
   "source": [
    "# to create a function"
   ]
  },
  {
   "cell_type": "code",
   "execution_count": 65,
   "metadata": {},
   "outputs": [],
   "source": [
    "def say_hello():\n",
    "    print('Hello')"
   ]
  },
  {
   "cell_type": "code",
   "execution_count": 66,
   "metadata": {},
   "outputs": [
    {
     "name": "stdout",
     "output_type": "stream",
     "text": [
      "Hello\n"
     ]
    }
   ],
   "source": [
    "say_hello()"
   ]
  },
  {
   "cell_type": "code",
   "execution_count": 69,
   "metadata": {},
   "outputs": [],
   "source": [
    "def say_hello(name):\n",
    "    print(f'Hello {name}')"
   ]
  },
  {
   "cell_type": "code",
   "execution_count": 70,
   "metadata": {},
   "outputs": [
    {
     "name": "stdout",
     "output_type": "stream",
     "text": [
      "Hello Adaeze\n"
     ]
    }
   ],
   "source": [
    "say_hello('Adaeze')"
   ]
  },
  {
   "cell_type": "markdown",
   "metadata": {},
   "source": [
    "# to create a function to have a default value"
   ]
  },
  {
   "cell_type": "code",
   "execution_count": 71,
   "metadata": {},
   "outputs": [],
   "source": [
    "def say_hello( name='unknown'):\n",
    "    print(f'Hello {name}')"
   ]
  },
  {
   "cell_type": "code",
   "execution_count": 72,
   "metadata": {},
   "outputs": [
    {
     "name": "stdout",
     "output_type": "stream",
     "text": [
      "Hello unknown\n"
     ]
    }
   ],
   "source": [
    "say_hello()"
   ]
  },
  {
   "cell_type": "code",
   "execution_count": 73,
   "metadata": {},
   "outputs": [
    {
     "name": "stdout",
     "output_type": "stream",
     "text": [
      "Hello joel\n"
     ]
    }
   ],
   "source": [
    "say_hello('joel')"
   ]
  },
  {
   "cell_type": "markdown",
   "metadata": {},
   "source": [
    "# creat a function with two number"
   ]
  },
  {
   "cell_type": "code",
   "execution_count": 84,
   "metadata": {},
   "outputs": [],
   "source": [
    "def add_num(a , b):\n",
    "    print(a + b)"
   ]
  },
  {
   "cell_type": "code",
   "execution_count": 10,
   "metadata": {},
   "outputs": [],
   "source": [
    "def convert_celsius(fahrenheit):\n",
    "    print(f'{convert_celsius(temp)}fahrenheit')"
   ]
  },
  {
   "cell_type": "code",
   "execution_count": null,
   "metadata": {},
   "outputs": [],
   "source": []
  },
  {
   "cell_type": "code",
   "execution_count": null,
   "metadata": {},
   "outputs": [],
   "source": [
    "name_of_student = input(\"Name: \")\n",
    "score = int(input(\"Your score: \"))\n",
    "\n",
    "if student_score > 100:\n",
    "    print(\"A:\")\n",
    "elif student_score >= 70:\n",
    "    print(B:\")\n",
    "elif student_score >= 60:\n",
    "    print(\"\")\n",
    "elif student_score >= 50:\n",
    "    print(\"Your grade is C: Your mate is getting A Try more\")\n",
    "elif student_score >= 45:\n",
    "    print(\"Your grade is D: I'm dissapointed\")\n",
    "elif student_score >= 40:\n",
    "    print(\"Your grade is E: Chai\")\n",
    "elif student_score >= 30:\n",
    "    print(\"Olodo, You had an FFFFFF\""
   ]
  },
  {
   "cell_type": "code",
   "execution_count": null,
   "metadata": {},
   "outputs": [],
   "source": [
    "# R"
   ]
  },
  {
   "cell_type": "code",
   "execution_count": 12,
   "metadata": {},
   "outputs": [],
   "source": [
    "def feTocen(c):\n",
    "    result = (c - 32) * (5/9)\n",
    "    return result"
   ]
  },
  {
   "cell_type": "code",
   "execution_count": 13,
   "metadata": {},
   "outputs": [],
   "source": [
    "temp_cen = feTocen(45)"
   ]
  },
  {
   "cell_type": "markdown",
   "metadata": {},
   "source": [
    "temp_cen"
   ]
  },
  {
   "cell_type": "code",
   "execution_count": 17,
   "metadata": {},
   "outputs": [
    {
     "name": "stdout",
     "output_type": "stream",
     "text": [
      "0\n",
      "54\n",
      "1.2\n",
      "37.5\n",
      "You are overweight\n",
      "\n",
      "1\n",
      "78\n",
      "2.3\n",
      "14.744801512287337\n",
      "You are abnornal #underweight\n",
      "\n",
      "2\n",
      "64\n",
      "1.8\n",
      "19.753086419753085\n",
      "You are Normal\n",
      "\n",
      "3\n",
      "49\n",
      "2.34\n",
      "8.948791000073053\n",
      "You are abnornal #underweight\n",
      "\n",
      "4\n",
      "56\n",
      "2.28\n",
      "10.772545398584182\n",
      "You are abnornal #underweight\n",
      "\n"
     ]
    }
   ],
   "source": [
    "height = [1.2, 2.3, 1.8, 2.34, 2.28]\n",
    "weight = [54, 78, 64, 49, 56]\n",
    "\n",
    "def BMI(w,h):\n",
    "    bmi = w / (h*h)\n",
    "    sent =''\n",
    "    if bmi>=25:\n",
    "        sent = 'You are overweight'\n",
    "    elif bmi >= 18.5:\n",
    "        sent = 'You are Normal'\n",
    "    else:\n",
    "        sent = 'You are abnornal #underweight'\n",
    "            \n",
    "    print(bmi)\n",
    "    print(sent)\n",
    "    print()\n",
    "            \n",
    "for i in range(len(height)):\n",
    "    print(i)\n",
    "    print(weight[i])\n",
    "    print(height[i])\n",
    "    BMI(weight[i], height[i])\n",
    "     "
   ]
  },
  {
   "cell_type": "markdown",
   "metadata": {},
   "source": [
    "# to add a lot of argument"
   ]
  },
  {
   "cell_type": "code",
   "execution_count": 25,
   "metadata": {},
   "outputs": [],
   "source": [
    "def findAvg(*args):\n",
    "    print(args)\n",
    "    print(sum(args)/len(args))"
   ]
  },
  {
   "cell_type": "code",
   "execution_count": 26,
   "metadata": {},
   "outputs": [
    {
     "name": "stdout",
     "output_type": "stream",
     "text": [
      "(1, 2, 3, 6, 2, 8, 3, 8, 23)\n",
      "6.222222222222222\n"
     ]
    }
   ],
   "source": [
    "findAvg(1,2,3,6,2,8,3,8,23)"
   ]
  },
  {
   "cell_type": "markdown",
   "metadata": {},
   "source": [
    " def stuff(**kargs):\n",
    "    print(kargs)"
   ]
  },
  {
   "cell_type": "code",
   "execution_count": 23,
   "metadata": {},
   "outputs": [
    {
     "name": "stdout",
     "output_type": "stream",
     "text": [
      "{'name': 'Kelly', 'age': 25, 'height': 1.2}\n"
     ]
    }
   ],
   "source": [
    "stuff(name='Kelly', age=25, height=1.2)"
   ]
  },
  {
   "cell_type": "markdown",
   "metadata": {},
   "source": [
    "# lambda function - convert to lambda functon"
   ]
  },
  {
   "cell_type": "code",
   "execution_count": 24,
   "metadata": {},
   "outputs": [],
   "source": [
    "convert_F = lambda c:(c - 32) * (5/9)"
   ]
  },
  {
   "cell_type": "code",
   "execution_count": 28,
   "metadata": {},
   "outputs": [
    {
     "data": {
      "text/plain": [
       "7.222222222222222"
      ]
     },
     "execution_count": 28,
     "metadata": {},
     "output_type": "execute_result"
    }
   ],
   "source": [
    "convert_F(45)"
   ]
  },
  {
   "cell_type": "code",
   "execution_count": 29,
   "metadata": {},
   "outputs": [],
   "source": [
    "add_num = lambda a,b:a+b"
   ]
  },
  {
   "cell_type": "code",
   "execution_count": 30,
   "metadata": {},
   "outputs": [
    {
     "data": {
      "text/plain": [
       "12"
      ]
     },
     "execution_count": 30,
     "metadata": {},
     "output_type": "execute_result"
    }
   ],
   "source": [
    "add_num(5,7)"
   ]
  },
  {
   "cell_type": "markdown",
   "metadata": {},
   "source": [
    "# assignment 1\n",
    "create a function and calculate distance x1-x2)2 + (y1-y2)2"
   ]
  },
  {
   "cell_type": "code",
   "execution_count": 23,
   "metadata": {},
   "outputs": [],
   "source": [
    "def distance(d):\n",
    "    distance: d(int)\n",
    "    result = speed * time \n",
    "    print(result)"
   ]
  },
  {
   "cell_type": "raw",
   "metadata": {},
   "source": [
    "speed_time = distance"
   ]
  },
  {
   "cell_type": "code",
   "execution_count": 18,
   "metadata": {},
   "outputs": [
    {
     "data": {
      "text/plain": [
       "<function __main__.distance(d)>"
      ]
     },
     "execution_count": 18,
     "metadata": {},
     "output_type": "execute_result"
    }
   ],
   "source": [
    "speed_time"
   ]
  },
  {
   "cell_type": "code",
   "execution_count": 19,
   "metadata": {},
   "outputs": [
    {
     "data": {
      "text/plain": [
       "function"
      ]
     },
     "execution_count": 19,
     "metadata": {},
     "output_type": "execute_result"
    }
   ],
   "source": [
    "type(speed_time)"
   ]
  },
  {
   "cell_type": "code",
   "execution_count": 1,
   "metadata": {},
   "outputs": [
    {
     "ename": "IndentationError",
     "evalue": "expected an indented block (<ipython-input-1-274a72bc7da8>, line 2)",
     "output_type": "error",
     "traceback": [
      "\u001b[1;36m  File \u001b[1;32m\"<ipython-input-1-274a72bc7da8>\"\u001b[1;36m, line \u001b[1;32m2\u001b[0m\n\u001b[1;33m    x1=int(input('x1 :'))\u001b[0m\n\u001b[1;37m     ^\u001b[0m\n\u001b[1;31mIndentationError\u001b[0m\u001b[1;31m:\u001b[0m expected an indented block\n"
     ]
    }
   ],
   "source": [
    "def distance(x1,x2,y1,y2):\n",
    "x1=int(input('x1 :'))\n",
    "x2=int(input('x2 :'))\n",
    "y1=int(input('y1 :'))\n",
    "y2=int(input('y2 :'))\n",
    "result =((((x1 -x2)**2 + ((y1-y2)**) )**0.05) \n",
    "print('distance between',(x1-x2), \"and\",(y1-y2) \"is:\" , result)\n",
    "   \n",
    " import math\n",
    "    \n",
    "    x = math.pow(x1-x2),2)\n",
    "    y = math.pow(y1-y2),2)\n",
    "    print(x)\n",
    "    print(y)\n",
    "    print(math.sqrt(x+y))\n",
    "    distance = math.sqrt(x+y)\n",
    "    print('distance between (x1-x2) - (y2-y1) ={0} units'.format distance))     "
   ]
  },
  {
   "cell_type": "markdown",
   "metadata": {},
   "source": [
    "# no 2 create  function that print even or odd number whe an integer is passed"
   ]
  },
  {
   "cell_type": "code",
   "execution_count": 4,
   "metadata": {},
   "outputs": [],
   "source": [
    "def list_number(even,odd):\n",
    "    number = int(input('77'))\n",
    "    if number % 2 == 0 :\n",
    "        print('the number is even')\n",
    "    else:\n",
    "        print('the number is odd')"
   ]
  },
  {
   "cell_type": "code",
   "execution_count": null,
   "metadata": {},
   "outputs": [],
   "source": []
  },
  {
   "cell_type": "code",
   "execution_count": null,
   "metadata": {},
   "outputs": [],
   "source": [
    "def month and year\n",
    "print(month_year)"
   ]
  },
  {
   "cell_type": "markdown",
   "metadata": {},
   "source": [
    "# object oriented\n",
    "programming(oop)\n",
    "python"
   ]
  },
  {
   "cell_type": "code",
   "execution_count": 1,
   "metadata": {},
   "outputs": [],
   "source": [
    "class Employee():\n",
    "    \n",
    "    def __init__(self, emp_id,name,salary):\n",
    "        self.emp_id = emp_id\n",
    "        self.name = name\n",
    "        self.salary =salary\n",
    "        \n",
    "    def give_raise(self):\n",
    "        self.salary =self.salary * 1.05"
   ]
  },
  {
   "cell_type": "code",
   "execution_count": 2,
   "metadata": {},
   "outputs": [],
   "source": [
    "emp1 =Employee(1,\"Daniel\",500000)"
   ]
  },
  {
   "cell_type": "code",
   "execution_count": 3,
   "metadata": {},
   "outputs": [
    {
     "data": {
      "text/plain": [
       "__main__.Employee"
      ]
     },
     "execution_count": 3,
     "metadata": {},
     "output_type": "execute_result"
    }
   ],
   "source": [
    "type(emp1)"
   ]
  },
  {
   "cell_type": "code",
   "execution_count": 4,
   "metadata": {},
   "outputs": [
    {
     "data": {
      "text/plain": [
       "1"
      ]
     },
     "execution_count": 4,
     "metadata": {},
     "output_type": "execute_result"
    }
   ],
   "source": [
    "emp1.emp_id"
   ]
  },
  {
   "cell_type": "code",
   "execution_count": 5,
   "metadata": {},
   "outputs": [
    {
     "data": {
      "text/plain": [
       "'Daniel'"
      ]
     },
     "execution_count": 5,
     "metadata": {},
     "output_type": "execute_result"
    }
   ],
   "source": [
    "emp1.name"
   ]
  },
  {
   "cell_type": "code",
   "execution_count": 6,
   "metadata": {},
   "outputs": [
    {
     "data": {
      "text/plain": [
       "500000"
      ]
     },
     "execution_count": 6,
     "metadata": {},
     "output_type": "execute_result"
    }
   ],
   "source": [
    "emp1.salary"
   ]
  },
  {
   "cell_type": "code",
   "execution_count": 7,
   "metadata": {},
   "outputs": [],
   "source": [
    "emp1.give_raise()"
   ]
  },
  {
   "cell_type": "code",
   "execution_count": 8,
   "metadata": {},
   "outputs": [
    {
     "data": {
      "text/plain": [
       "525000.0"
      ]
     },
     "execution_count": 8,
     "metadata": {},
     "output_type": "execute_result"
    }
   ],
   "source": [
    "emp1.salary"
   ]
  },
  {
   "cell_type": "markdown",
   "metadata": {},
   "source": [
    "# to create the inheritance"
   ]
  },
  {
   "cell_type": "code",
   "execution_count": null,
   "metadata": {},
   "outputs": [],
   "source": [
    "to create manager class"
   ]
  },
  {
   "cell_type": "code",
   "execution_count": 35,
   "metadata": {},
   "outputs": [],
   "source": [
    "class manager(Employee):\n",
    "    def __init__(self,emp_id, name, salary, gender):\n",
    "        Employee.__init__(self, emp_id, name,salary)\n",
    "        self.gender = gender\n",
    "        \n",
    "    def give_raise(self):\n",
    "        self.salary = self.salary * 1.10\n"
   ]
  },
  {
   "cell_type": "code",
   "execution_count": 36,
   "metadata": {},
   "outputs": [],
   "source": [
    "mgr1 = manager(101, 'Ray', 750000, 'female')"
   ]
  },
  {
   "cell_type": "code",
   "execution_count": 37,
   "metadata": {},
   "outputs": [
    {
     "data": {
      "text/plain": [
       "101"
      ]
     },
     "execution_count": 37,
     "metadata": {},
     "output_type": "execute_result"
    }
   ],
   "source": [
    "mgr1.emp_id"
   ]
  },
  {
   "cell_type": "code",
   "execution_count": 38,
   "metadata": {},
   "outputs": [
    {
     "data": {
      "text/plain": [
       "'Ray'"
      ]
     },
     "execution_count": 38,
     "metadata": {},
     "output_type": "execute_result"
    }
   ],
   "source": [
    "mgr1.name"
   ]
  },
  {
   "cell_type": "code",
   "execution_count": 39,
   "metadata": {},
   "outputs": [
    {
     "data": {
      "text/plain": [
       "750000"
      ]
     },
     "execution_count": 39,
     "metadata": {},
     "output_type": "execute_result"
    }
   ],
   "source": [
    "mgr1.salary"
   ]
  },
  {
   "cell_type": "code",
   "execution_count": 40,
   "metadata": {},
   "outputs": [
    {
     "data": {
      "text/plain": [
       "__main__.manager"
      ]
     },
     "execution_count": 40,
     "metadata": {},
     "output_type": "execute_result"
    }
   ],
   "source": [
    "type(mgr1)"
   ]
  },
  {
   "cell_type": "code",
   "execution_count": 41,
   "metadata": {},
   "outputs": [
    {
     "data": {
      "text/plain": [
       "'female'"
      ]
     },
     "execution_count": 41,
     "metadata": {},
     "output_type": "execute_result"
    }
   ],
   "source": [
    "mgr1.gender"
   ]
  },
  {
   "cell_type": "code",
   "execution_count": 42,
   "metadata": {},
   "outputs": [],
   "source": [
    "mgr1.give_raise()"
   ]
  },
  {
   "cell_type": "code",
   "execution_count": 43,
   "metadata": {},
   "outputs": [
    {
     "data": {
      "text/plain": [
       "825000.0000000001"
      ]
     },
     "execution_count": 43,
     "metadata": {},
     "output_type": "execute_result"
    }
   ],
   "source": [
    "mgr1.salary"
   ]
  },
  {
   "cell_type": "code",
   "execution_count": 44,
   "metadata": {},
   "outputs": [],
   "source": [
    "class Director(manager):\n",
    "    def give_raise(self):\n",
    "        self.salary = self.salary * 1.20\n"
   ]
  },
  {
   "cell_type": "code",
   "execution_count": 45,
   "metadata": {},
   "outputs": [],
   "source": [
    "dir1 = Director(201, 'glory', 1000000, 'male')"
   ]
  },
  {
   "cell_type": "code",
   "execution_count": 46,
   "metadata": {},
   "outputs": [
    {
     "data": {
      "text/plain": [
       "201"
      ]
     },
     "execution_count": 46,
     "metadata": {},
     "output_type": "execute_result"
    }
   ],
   "source": [
    "dir1.emp_id"
   ]
  },
  {
   "cell_type": "code",
   "execution_count": 47,
   "metadata": {},
   "outputs": [
    {
     "data": {
      "text/plain": [
       "'glory'"
      ]
     },
     "execution_count": 47,
     "metadata": {},
     "output_type": "execute_result"
    }
   ],
   "source": [
    "dir1.name"
   ]
  },
  {
   "cell_type": "code",
   "execution_count": 48,
   "metadata": {},
   "outputs": [
    {
     "data": {
      "text/plain": [
       "1000000"
      ]
     },
     "execution_count": 48,
     "metadata": {},
     "output_type": "execute_result"
    }
   ],
   "source": [
    "dir1.salary"
   ]
  },
  {
   "cell_type": "code",
   "execution_count": 49,
   "metadata": {},
   "outputs": [
    {
     "data": {
      "text/plain": [
       "'male'"
      ]
     },
     "execution_count": 49,
     "metadata": {},
     "output_type": "execute_result"
    }
   ],
   "source": [
    "dir1.gender"
   ]
  },
  {
   "cell_type": "code",
   "execution_count": 50,
   "metadata": {},
   "outputs": [],
   "source": [
    "dir1.give_raise()"
   ]
  },
  {
   "cell_type": "code",
   "execution_count": 51,
   "metadata": {},
   "outputs": [
    {
     "data": {
      "text/plain": [
       "1100000.0"
      ]
     },
     "execution_count": 51,
     "metadata": {},
     "output_type": "execute_result"
    }
   ],
   "source": [
    "dir1.salary"
   ]
  },
  {
   "cell_type": "code",
   "execution_count": 53,
   "metadata": {},
   "outputs": [],
   "source": [
    "emp2 =Employee(2, 'john', 60000)\n",
    "emp3 = Employee(3, 'lizzy', 65000)\n",
    "\n",
    "mgr2 = manager(2, 'james', 600000, 'male')\n",
    "mgr3 = manager(3, 'kelly', 560000, 'male')\n",
    "dir2 = Director(2, 'john paul', 1000000, 'male')\n",
    "dir3 = Director(3, 'joy',1200000, 'female')"
   ]
  },
  {
   "cell_type": "code",
   "execution_count": 54,
   "metadata": {},
   "outputs": [],
   "source": [
    "emp_list = [emp2, emp3, mgr2, mgr3, dir2, dir3]"
   ]
  },
  {
   "cell_type": "code",
   "execution_count": 55,
   "metadata": {},
   "outputs": [
    {
     "name": "stdout",
     "output_type": "stream",
     "text": [
      "******************************\n",
      "john\n",
      "old salary: 60000\n",
      "New salary: 63000.0\n",
      "******************************\n",
      "\n",
      "******************************\n",
      "lizzy\n",
      "old salary: 65000\n",
      "New salary: 68250.0\n",
      "******************************\n",
      "\n",
      "******************************\n",
      "james\n",
      "old salary: 600000\n",
      "New salary: 660000.0\n",
      "******************************\n",
      "\n",
      "******************************\n",
      "kelly\n",
      "old salary: 560000\n",
      "New salary: 616000.0\n",
      "******************************\n",
      "\n",
      "******************************\n",
      "john paul\n",
      "old salary: 1000000\n",
      "New salary: 1100000.0\n",
      "******************************\n",
      "\n",
      "******************************\n",
      "joy\n",
      "old salary: 1200000\n",
      "New salary: 1320000.0\n",
      "******************************\n",
      "\n"
     ]
    }
   ],
   "source": [
    "for i in emp_list:\n",
    "    print('*'*30)\n",
    "    print(i.name)\n",
    "    print(f'old salary: {i.salary}')\n",
    "    i.give_raise()\n",
    "    print(f'New salary: {i.salary}')\n",
    "    print('*'*30)\n",
    "    print()"
   ]
  },
  {
   "cell_type": "code",
   "execution_count": 58,
   "metadata": {},
   "outputs": [
    {
     "data": {
      "text/plain": [
       "[<matplotlib.lines.Line2D at 0x1f63f74b860>]"
      ]
     },
     "execution_count": 58,
     "metadata": {},
     "output_type": "execute_result"
    },
    {
     "data": {
      "image/png": "[encoded data removed]",
      "text/plain": [
       "<Figure size 432x288 with 1 Axes>"
      ]
     },
     "metadata": {
      "needs_background": "light"
     },
     "output_type": "display_data"
    }
   ],
   "source": [
    "import matplotlib.pyplot as plt\n",
    "import numpy as np\n",
    "\n",
    "x = np.linspace(0 ,2 * np.pi, 200)\n",
    "y = np.sin(x)\n",
    "\n",
    "fig,ax = plt.subplots()\n",
    "ax.plot(x, y)\n"
   ]
  },
  {
   "cell_type": "code",
   "execution_count": null,
   "metadata": {},
   "outputs": [],
   "source": [
    "to convert binary number"
   ]
  },
  {
   "cell_type": "code",
   "execution_count": 59,
   "metadata": {},
   "outputs": [
    {
     "data": {
      "text/plain": [
       "'101'"
      ]
     },
     "execution_count": 59,
     "metadata": {},
     "output_type": "execute_result"
    }
   ],
   "source": [
    "bin(5)[2:]"
   ]
  },
  {
   "cell_type": "markdown",
   "metadata": {},
   "source": [
    "# project"
   ]
  },
  {
   "cell_type": "code",
   "execution_count": 8,
   "metadata": {},
   "outputs": [
    {
     "name": "stdout",
     "output_type": "stream",
     "text": [
      "1\n"
     ]
    }
   ],
   "source": [
    "N = 355899\n",
    "\n",
    "def solution(N):\n",
    "    \n",
    "    count_binary = str(bin(N))[2:]\n",
    "    count_binary_group = False\n",
    "    count_binary_higest = 0\n",
    "    binary_zero_counter = 0\n",
    "    for character in count_binary:\n",
    "        if character =='1':\n",
    "            if count_binary_higest < binary_zero_counter:\n",
    "                count_binary_highest = binary_zero_counter\n",
    "            count_binary_group = True\n",
    "            binary_zero_counter = 0\n",
    "        elif count_binary_group:\n",
    "            binary_zero_counter += 1\n",
    "    return count_binary_highest\n",
    "    \n",
    "print(solution(N))\n"
   ]
  },
  {
   "cell_type": "code",
   "execution_count": 9,
   "metadata": {},
   "outputs": [
    {
     "data": {
      "text/plain": [
       "'0b1010110111000111011'"
      ]
     },
     "execution_count": 9,
     "metadata": {},
     "output_type": "execute_result"
    }
   ],
   "source": [
    "bin(355899)"
   ]
  },
  {
   "cell_type": "markdown",
   "metadata": {},
   "source": [
    "# project class solution"
   ]
  },
  {
   "cell_type": "code",
   "execution_count": 16,
   "metadata": {},
   "outputs": [
    {
     "data": {
      "text/plain": [
       "'0b10000010001'"
      ]
     },
     "execution_count": 16,
     "metadata": {},
     "output_type": "execute_result"
    }
   ],
   "source": [
    "bin(1041)"
   ]
  },
  {
   "cell_type": "code",
   "execution_count": 19,
   "metadata": {},
   "outputs": [],
   "source": [
    "binary_string = bin(1041)[2:]"
   ]
  },
  {
   "cell_type": "code",
   "execution_count": 20,
   "metadata": {},
   "outputs": [
    {
     "data": {
      "text/plain": [
       "'10000010001'"
      ]
     },
     "execution_count": 20,
     "metadata": {},
     "output_type": "execute_result"
    }
   ],
   "source": [
    "binary_string"
   ]
  },
  {
   "cell_type": "code",
   "execution_count": 23,
   "metadata": {},
   "outputs": [],
   "source": [
    "binary_list = binary_string.split('1')"
   ]
  },
  {
   "cell_type": "code",
   "execution_count": 24,
   "metadata": {},
   "outputs": [
    {
     "data": {
      "text/plain": [
       "['', '00000', '000', '']"
      ]
     },
     "execution_count": 24,
     "metadata": {},
     "output_type": "execute_result"
    }
   ],
   "source": [
    "binary_list"
   ]
  },
  {
   "cell_type": "code",
   "execution_count": 25,
   "metadata": {},
   "outputs": [
    {
     "name": "stdout",
     "output_type": "stream",
     "text": [
      "5\n"
     ]
    }
   ],
   "source": [
    "current_len = 0\n",
    "max_len = 0\n",
    "\n",
    "for i in binary_list:\n",
    "    current_len = len(i)\n",
    "    \n",
    "    if current_len > max_len:\n",
    "       max_len = current_len\n",
    "print(max_len)\n",
    "\n",
    "\n"
   ]
  },
  {
   "cell_type": "code",
   "execution_count": 26,
   "metadata": {},
   "outputs": [
    {
     "data": {
      "text/plain": [
       "'0b100000'"
      ]
     },
     "execution_count": 26,
     "metadata": {},
     "output_type": "execute_result"
    }
   ],
   "source": [
    "bin(32)"
   ]
  },
  {
   "cell_type": "code",
   "execution_count": 28,
   "metadata": {},
   "outputs": [],
   "source": [
    "binary_string_32 = bin(32)[2:]"
   ]
  },
  {
   "cell_type": "code",
   "execution_count": 29,
   "metadata": {},
   "outputs": [
    {
     "data": {
      "text/plain": [
       "'100000'"
      ]
     },
     "execution_count": 29,
     "metadata": {},
     "output_type": "execute_result"
    }
   ],
   "source": [
    "binary_string_32"
   ]
  },
  {
   "cell_type": "code",
   "execution_count": 30,
   "metadata": {},
   "outputs": [],
   "source": [
    "binary_list_32 = binary_string_32.split('1')"
   ]
  },
  {
   "cell_type": "code",
   "execution_count": 31,
   "metadata": {},
   "outputs": [
    {
     "data": {
      "text/plain": [
       "['', '00000']"
      ]
     },
     "execution_count": 31,
     "metadata": {},
     "output_type": "execute_result"
    }
   ],
   "source": [
    "binary_list_32"
   ]
  },
  {
   "cell_type": "code",
   "execution_count": 32,
   "metadata": {},
   "outputs": [
    {
     "data": {
      "text/plain": [
       "'00000'"
      ]
     },
     "execution_count": 32,
     "metadata": {},
     "output_type": "execute_result"
    }
   ],
   "source": [
    "binary_list_32[-1]"
   ]
  },
  {
   "cell_type": "code",
   "execution_count": 33,
   "metadata": {},
   "outputs": [
    {
     "data": {
      "text/plain": [
       "5"
      ]
     },
     "execution_count": 33,
     "metadata": {},
     "output_type": "execute_result"
    }
   ],
   "source": [
    "len(binary_list_32[-1])"
   ]
  },
  {
   "cell_type": "code",
   "execution_count": 35,
   "metadata": {},
   "outputs": [],
   "source": [
    "if len(binary_string_32[-1]) != 0:\n",
    "    binary_list_32.pop()"
   ]
  },
  {
   "cell_type": "code",
   "execution_count": 36,
   "metadata": {},
   "outputs": [
    {
     "data": {
      "text/plain": [
       "['']"
      ]
     },
     "execution_count": 36,
     "metadata": {},
     "output_type": "execute_result"
    }
   ],
   "source": [
    "binary_list_32"
   ]
  },
  {
   "cell_type": "code",
   "execution_count": 37,
   "metadata": {},
   "outputs": [
    {
     "name": "stdout",
     "output_type": "stream",
     "text": [
      "0\n"
     ]
    }
   ],
   "source": [
    "current_len = 0\n",
    "max_len = 0\n",
    "\n",
    "for i in binary_list_32:\n",
    "    current_len = len(i)\n",
    "    \n",
    "    if current_len > max_len:\n",
    "        max_len = current_len\n",
    "print(max_len)\n",
    "\n",
    "  "
   ]
  },
  {
   "cell_type": "code",
   "execution_count": 7,
   "metadata": {},
   "outputs": [],
   "source": [
    "def solution(N):\n",
    "    # convert number to binary\n",
    "    binary_string = bin(N)[2:]\n",
    "    \n",
    "    # split binary string by '1'\n",
    "    binary_list = binary_string.split('1')\n",
    "    \n",
    "    # Remove last item in the list if it didnt end with '1'\n",
    "    if len(binary_list[-1]) != 0:\n",
    "        binary_list.pop()\n",
    "    \n",
    "    # count the numbers of zeros and stores the max number\n",
    "    current_len = 0\n",
    "    max_len  = 0\n",
    "    \n",
    "    for i in binary_list:\n",
    "        current_len = len(i)\n",
    "        \n",
    "        if current_len > max_len:\n",
    "            max_len = current_len\n",
    "            \n",
    "    return max_len"
   ]
  },
  {
   "cell_type": "code",
   "execution_count": 11,
   "metadata": {},
   "outputs": [
    {
     "data": {
      "text/plain": [
       "5"
      ]
     },
     "execution_count": 11,
     "metadata": {},
     "output_type": "execute_result"
    }
   ],
   "source": [
    "solution(1041)"
   ]
  },
  {
   "cell_type": "code",
   "execution_count": null,
   "metadata": {},
   "outputs": [],
   "source": [
    "write a functionthat will reverse carrace to racecar(how to reverse a string)"
   ]
  },
  {
   "cell_type": "code",
   "execution_count": 2,
   "metadata": {},
   "outputs": [
    {
     "data": {
      "text/plain": [
       "'Hello'"
      ]
     },
     "execution_count": 2,
     "metadata": {},
     "output_type": "execute_result"
    }
   ],
   "source": [
    "a"
   ]
  },
  {
   "cell_type": "code",
   "execution_count": 4,
   "metadata": {},
   "outputs": [],
   "source": [
    "b = 'madam'"
   ]
  },
  {
   "cell_type": "code",
   "execution_count": 5,
   "metadata": {},
   "outputs": [
    {
     "data": {
      "text/plain": [
       "'madam'"
      ]
     },
     "execution_count": 5,
     "metadata": {},
     "output_type": "execute_result"
    }
   ],
   "source": [
    "b"
   ]
  },
  {
   "cell_type": "code",
   "execution_count": 6,
   "metadata": {},
   "outputs": [
    {
     "data": {
      "text/plain": [
       "'madam'"
      ]
     },
     "execution_count": 6,
     "metadata": {},
     "output_type": "execute_result"
    }
   ],
   "source": [
    "b[::-1]"
   ]
  },
  {
   "cell_type": "code",
   "execution_count": 7,
   "metadata": {},
   "outputs": [
    {
     "data": {
      "text/plain": [
       "True"
      ]
     },
     "execution_count": 7,
     "metadata": {},
     "output_type": "execute_result"
    }
   ],
   "source": [
    "b == b[::-1]"
   ]
  },
  {
   "cell_type": "code",
   "execution_count": 8,
   "metadata": {},
   "outputs": [],
   "source": [
    "def palindrome(string):\n",
    "    '''\n",
    "    this function takes a string and check if it is a palindrome\n",
    "    '''\n",
    "    \n",
    "    if string == string[::-1]:\n",
    "        return True\n",
    "    else:\n",
    "        return False"
   ]
  },
  {
   "cell_type": "code",
   "execution_count": 9,
   "metadata": {},
   "outputs": [
    {
     "data": {
      "text/plain": [
       "True"
      ]
     },
     "execution_count": 9,
     "metadata": {},
     "output_type": "execute_result"
    }
   ],
   "source": [
    "palindrome('racecar')"
   ]
  },
  {
   "cell_type": "code",
   "execution_count": null,
   "metadata": {},
   "outputs": [],
   "source": [
    "or yo can say"
   ]
  },
  {
   "cell_type": "code",
   "execution_count": 10,
   "metadata": {},
   "outputs": [],
   "source": [
    "def reverse(string):\n",
    "    return string[::-1]"
   ]
  },
  {
   "cell_type": "code",
   "execution_count": 11,
   "metadata": {},
   "outputs": [
    {
     "data": {
      "text/plain": [
       "'olleh'"
      ]
     },
     "execution_count": 11,
     "metadata": {},
     "output_type": "execute_result"
    }
   ],
   "source": [
    "reverse('hello')"
   ]
  },
  {
   "cell_type": "code",
   "execution_count": 12,
   "metadata": {},
   "outputs": [],
   "source": [
    "def palindrome(string):\n",
    "    if string == reverse(string):\n",
    "        return True\n",
    "    else:\n",
    "        return False"
   ]
  },
  {
   "cell_type": "code",
   "execution_count": null,
   "metadata": {},
   "outputs": [],
   "source": [
    "write a function that prompt a user for a number if that number is an odd number then check if the number is between the range of 3 to 30 but if the number is an even number then check if the number is between the range of 2 to 20 and display an output"
   ]
  },
  {
   "cell_type": "code",
   "execution_count": 13,
   "metadata": {},
   "outputs": [],
   "source": [
    "def evenoroddRange(N):\n",
    "    '''\n",
    "    Takes a nunmber and check if the number is even or odd\n",
    "    '''\n",
    "    if N%2 == 0:\n",
    "        print(f'{N} is a Even Number!')\n",
    "        if N in range (2,20):\n",
    "            print(f'{N} is within 2 to 20!')\n",
    "        \n",
    "    else:\n",
    "        print(f'{N} is a Odd number!')\n",
    "        if N in range(3,30):\n",
    "            print(f'{N} is within 3 to 30!')\n",
    "       "
   ]
  },
  {
   "cell_type": "code",
   "execution_count": 14,
   "metadata": {},
   "outputs": [
    {
     "name": "stdout",
     "output_type": "stream",
     "text": [
      "User Please Input a number\n",
      "37\n",
      "37 is a Odd number!\n"
     ]
    }
   ],
   "source": [
    "print('User Please Input a number')\n",
    "number = int(input())\n",
    "evenoroddRange(number)"
   ]
  },
  {
   "cell_type": "code",
   "execution_count": 21,
   "metadata": {},
   "outputs": [],
   "source": [
    "def check_leap_year(year):\n",
    "    '''\n",
    "    This function checks if the year input is a leap year or not\n",
    "    '''\n",
    "    if year%4 == 0:\n",
    "        print(f'{year} is a leap year!')\n",
    "        return True\n",
    "    else:\n",
    "        print(f'{year} is not  a leap year!')\n",
    "        return False\n",
    "              "
   ]
  },
  {
   "cell_type": "code",
   "execution_count": 22,
   "metadata": {},
   "outputs": [
    {
     "name": "stdout",
     "output_type": "stream",
     "text": [
      "User Please Input a Valid Year\n",
      "2022\n",
      "2022 is not  a leap year!\n"
     ]
    },
    {
     "data": {
      "text/plain": [
       "False"
      ]
     },
     "execution_count": 22,
     "metadata": {},
     "output_type": "execute_result"
    }
   ],
   "source": [
    "print('User Please Input a Valid Year')\n",
    "year = int(input())\n",
    "check_leap_year(year)"
   ]
  },
  {
   "cell_type": "code",
   "execution_count": 11,
   "metadata": {},
   "outputs": [],
   "source": [
    "def attendance(present, absent):\n",
    "    total = (present/(present+absent)) * 100\n",
    "    \n",
    "    if total >= 75:\n",
    "        print('You are eligible to write the test')\n",
    "        return True\n",
    "    else:\n",
    "        print('You are ineligible to write the test')\n",
    "        return False"
   ]
  },
  {
   "cell_type": "code",
   "execution_count": 12,
   "metadata": {},
   "outputs": [
    {
     "name": "stdout",
     "output_type": "stream",
     "text": [
      "User How many times did you come to class\n",
      "2\n",
      "User How many times did you miss class\n",
      "10\n",
      "You are ineligible to write the test\n"
     ]
    },
    {
     "data": {
      "text/plain": [
       "False"
      ]
     },
     "execution_count": 12,
     "metadata": {},
     "output_type": "execute_result"
    }
   ],
   "source": [
    "print('User How many times did you come to class')\n",
    "present = int(input())\n",
    "print('User How many times did you miss class')\n",
    "absent = int(input())\n",
    "attendance(present, absent)"
   ]
  },
  {
   "cell_type": "code",
   "execution_count": null,
   "metadata": {},
   "outputs": [],
   "source": [
    "question 4: write a python program to sort the list [43,67,4,36,72,456] in descending order(from highest to lowest)\n",
    "    and display the sorted list"
   ]
  },
  {
   "cell_type": "code",
   "execution_count": null,
   "metadata": {},
   "outputs": [],
   "source": [
    "solution"
   ]
  },
  {
   "cell_type": "code",
   "execution_count": 16,
   "metadata": {},
   "outputs": [
    {
     "name": "stdout",
     "output_type": "stream",
     "text": [
      "[456, 72, 67, 43, 36, 4]\n"
     ]
    }
   ],
   "source": [
    "numbers = [43,67,4,36,72,456]\n",
    "numbers.sort(reverse = True)\n",
    "print(numbers)"
   ]
  },
  {
   "cell_type": "code",
   "execution_count": null,
   "metadata": {},
   "outputs": [],
   "source": [
    "qestion 5"
   ]
  },
  {
   "cell_type": "code",
   "execution_count": 1,
   "metadata": {},
   "outputs": [
    {
     "name": "stdout",
     "output_type": "stream",
     "text": [
      "77:80\n",
      "80 is Even\n"
     ]
    }
   ],
   "source": [
    "num = int(input('77:'))\n",
    "if (num %2) == 0:\n",
    "    print(\"{0} is Even\".format(num))\n",
    "else:\n",
    "    print(\"{0} is odd\".format(num))"
   ]
  },
  {
   "cell_type": "code",
   "execution_count": null,
   "metadata": {},
   "outputs": [],
   "source": [
    "question5 class solution"
   ]
  },
  {
   "cell_type": "code",
   "execution_count": 2,
   "metadata": {},
   "outputs": [],
   "source": [
    "def evenorodd(N):\n",
    "    if N%2 == 0:\n",
    "        return f' {N} is an even number'\n",
    "    else:\n",
    "        return f'{N} is an odd number'"
   ]
  },
  {
   "cell_type": "code",
   "execution_count": 9,
   "metadata": {},
   "outputs": [
    {
     "name": "stdout",
     "output_type": "stream",
     "text": [
      "input a Number!\n",
      "22\n",
      " 22 is an even number\n",
      "input a Number!\n",
      "47\n",
      "47 is an odd number\n",
      "input a Number!\n",
      "48\n",
      " 48 is an even number\n",
      "input a Number!\n",
      "done\n"
     ]
    }
   ],
   "source": [
    "done = 'No'\n",
    "\n",
    "while done == 'No':\n",
    "    print('input a Number!')\n",
    "    num = input()\n",
    "    if num == 'done':\n",
    "        done = 'Yes'\n",
    "    else:\n",
    "            num = int(num)\n",
    "            print(evenorodd(num))\n",
    "    \n"
   ]
  },
  {
   "cell_type": "code",
   "execution_count": null,
   "metadata": {},
   "outputs": [],
   "source": []
  }
 ],
 "metadata": {
  "kernelspec": {
   "display_name": "Python 3",
   "language": "python",
   "name": "python3"
  },
  "language_info": {
   "codemirror_mode": {
    "name": "ipython",
    "version": 3
   },
   "file_extension": ".py",
   "mimetype": "text/x-python",
   "name": "python",
   "nbconvert_exporter": "python",
   "pygments_lexer": "ipython3",
   "version": "3.7.0"
  }
 },
 "nbformat": 4,
 "nbformat_minor": 2
}
